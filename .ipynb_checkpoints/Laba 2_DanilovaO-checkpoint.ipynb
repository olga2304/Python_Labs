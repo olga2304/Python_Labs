{
 "cells": [
  {
   "cell_type": "markdown",
   "metadata": {},
   "source": [
    "# Лабораторная работа 2. Циклы и списки."
   ]
  },
  {
   "cell_type": "markdown",
   "metadata": {},
   "source": [
    "# Справочная информация:"
   ]
  },
  {
   "cell_type": "markdown",
   "metadata": {},
   "source": [
    "# 1. Типы данных"
   ]
  },
  {
   "cell_type": "markdown",
   "metadata": {},
   "source": [
    "Основными типами данных в любом языке программирования являются:\n",
    "\n",
    "целые числа, вещественные числа, строки (символы), логические переменные (True (истина) или False (ложь)).\n",
    "\n",
    "Они могут быть записаны следующим образом"
   ]
  },
  {
   "cell_type": "code",
   "execution_count": 3,
   "metadata": {},
   "outputs": [
    {
     "name": "stdout",
     "output_type": "stream",
     "text": [
      "1 1.0 1 True False\n"
     ]
    }
   ],
   "source": [
    "print(1, 1.0, '1', 1<2, 2<1)"
   ]
  },
  {
   "cell_type": "markdown",
   "metadata": {},
   "source": [
    "Функцией type возвращает тип аргумента: "
   ]
  },
  {
   "cell_type": "code",
   "execution_count": 5,
   "metadata": {},
   "outputs": [
    {
     "data": {
      "text/plain": [
       "(int, float, str, bool, bool)"
      ]
     },
     "execution_count": 5,
     "metadata": {},
     "output_type": "execute_result"
    }
   ],
   "source": [
    "(type(1), type(1.0), type('1'), type(1<2), type(2<1))"
   ]
  },
  {
   "cell_type": "markdown",
   "metadata": {},
   "source": [
    "# 1.2 Операции с числами: $A+B$, $A-B$, $A*B$, $A/B$, $A^B$"
   ]
  },
  {
   "cell_type": "code",
   "execution_count": 18,
   "metadata": {},
   "outputs": [
    {
     "name": "stdout",
     "output_type": "stream",
     "text": [
      " A + B =  3\n",
      " A - B =  -1\n",
      " A * B =  2\n",
      " A / B =  0.5\n",
      " A ^ B =  1\n"
     ]
    }
   ],
   "source": [
    "# комментарий: с целыми числами\n",
    "A=1 \n",
    "B=2\n",
    "print (' A + B = ',A+B) # сумма\n",
    "print (' A - B = ',A-B) # разность;\n",
    "print (' A * B = ',A*B) # произведение;\n",
    "print (' A / B = ',A/B) # частное;\n",
    "print (' A ^ B = ',A**B) # возведение в степень."
   ]
  },
  {
   "cell_type": "code",
   "execution_count": 4,
   "metadata": {},
   "outputs": [
    {
     "name": "stdout",
     "output_type": "stream",
     "text": [
      " A + B  =  3.0\n",
      " A - B  =  -1.0\n",
      " A * B  =  2.0\n",
      " A / B  =  0.5\n",
      " A % B  =  1.0\n",
      " A // B =  0.0\n",
      " A ^ B  =  1.0\n"
     ]
    }
   ],
   "source": [
    "# комментарий: с вещественными числами\n",
    "A=1.0 \n",
    "B=2.0\n",
    "print (' A + B  = ',A+B)  # сумма\n",
    "print (' A - B  = ',A-B)  # разность;\n",
    "print (' A * B  = ',A*B)  # произведение;\n",
    "print (' A / B  = ',A/B)  # частное;\n",
    "print (' A % B  = ',A%B)  #  остаток от деления;\n",
    "print (' A // B = ',A//B) # деление без остатка;\n",
    "print (' A ^ B  = ',A**B) # возведение в степень."
   ]
  },
  {
   "cell_type": "code",
   "execution_count": 5,
   "metadata": {},
   "outputs": [
    {
     "name": "stdout",
     "output_type": "stream",
     "text": [
      " A / B =  0.5 возвращаемый тип -  <class 'float'>\n",
      " A / B =  0 возвращаемый тип -  <class 'int'>\n"
     ]
    }
   ],
   "source": [
    "# комментарий: ещё о целых числах, без автоматического переопределения типа было бы так\n",
    "A=1\n",
    "B=2\n",
    "print (' A / B = ',A/B, 'возвращаемый тип - ', type(A/B)) # автоматическое переопределение;\n",
    "print (' A / B = ',(int)(A/B), 'возвращаемый тип - ', type((int)(A/B))) # без автоматического переопределения;"
   ]
  },
  {
   "cell_type": "markdown",
   "metadata": {},
   "source": [
    "# 1.2 Операции над строками"
   ]
  },
  {
   "cell_type": "code",
   "execution_count": 22,
   "metadata": {},
   "outputs": [
    {
     "name": "stdout",
     "output_type": "stream",
     "text": [
      " Ast + Bst =   я люблю и информатику \n",
      "(Ast + Bst) * n =   я люблю  информатику  я люблю  информатику  я люблю  информатику \n"
     ]
    }
   ],
   "source": [
    "Ast=' я люблю ' \n",
    "Bst=' информатику '\n",
    "n=3\n",
    "print (' Ast + Bst = ',Ast+'и'+Bst)  # конкатенация \n",
    "print ('(Ast + Bst) * n = ',(Ast+Bst)*n)  # повторение n раз"
   ]
  },
  {
   "cell_type": "markdown",
   "metadata": {},
   "source": [
    "# 1.3 Логические операции"
   ]
  },
  {
   "cell_type": "code",
   "execution_count": 2,
   "metadata": {},
   "outputs": [
    {
     "name": "stdout",
     "output_type": "stream",
     "text": [
      " A >  B  ?  False\n",
      " A <  B  ?  True\n",
      " A >= B  ?  False\n",
      " A <= B  ?  True\n",
      " A == B  ?  False\n",
      " A != B ?  True\n",
      " A < B < A+B ?  True\n",
      " A < B и B < A+B  ?  True\n",
      " A < B или A > B  ?  True\n",
      "\n",
      " True False False True\n",
      "\n",
      " True \t False\n"
     ]
    }
   ],
   "source": [
    "A=1.0 \n",
    "B=2.0\n",
    "print (' A >  B  ? ',A>B)   # больше\n",
    "print (' A <  B  ? ',A<B)   # меньша\n",
    "print (' A >= B  ? ',A>=B)  # больше или равно\n",
    "print (' A <= B  ? ',A<=B)  # меньше или равно\n",
    "print (' A == B  ? ',A==B)  # равно\n",
    "print (' A != B ? ',A!=B)   # не равно\n",
    "print (' A < B < A+B ? ',A<B<A+B) # из интервала\n",
    "print (' A < B и B < A+B  ? ',A<B and B<A+B) # и (*)\n",
    "print (' A < B или A > B  ? ',A<B or A>B) # или (+)\n",
    "\n",
    "print ('\\n',A<B , A>B, A<B * A>B, A<B + A>B)  # \\n - знак перехода на строку\n",
    "\n",
    "print ('\\n',bool(1), '\\t', bool(0))  # \\t - знак табуляции"
   ]
  },
  {
   "cell_type": "markdown",
   "metadata": {},
   "source": [
    "# 2 Основные инструкции"
   ]
  },
  {
   "cell_type": "markdown",
   "metadata": {},
   "source": [
    "# 2.1 Операции ввода/вывода"
   ]
  },
  {
   "cell_type": "markdown",
   "metadata": {
    "collapsed": true
   },
   "source": [
    "Форматный вывод (это красиво): %ШиринаПоля.ТочностьТип\n",
    "\n",
    "% - указатель на вставку, тип: i - int, f - float, s - str, e - \"научное\" представление, g - \"компактное\" представление десятичного числа\n",
    "\n",
    "По умолчанию производится выравнивание по правому краю, для выравневания по левому нужно писать %- вместо %.\n",
    "\n",
    "(Кроме того, существует метод str.format() для форматного вывода строк.)"
   ]
  },
  {
   "cell_type": "code",
   "execution_count": 23,
   "metadata": {},
   "outputs": [
    {
     "name": "stdout",
     "output_type": "stream",
     "text": [
      " A / B = 0.5000, возвращаемый тип - <class 'float'> \n",
      " A / B = 0     , возвращаемый тип - <class 'int'> \n"
     ]
    }
   ],
   "source": [
    "A=1 \n",
    "B=2\n",
    "print(\" A / B = %6.4f, возвращаемый тип - %s \" % (A/B, type(A/B)))\n",
    "print(\" A / B = %-6i, возвращаемый тип - %s \" % ((int)(A/B), type((int)(A/B))))"
   ]
  },
  {
   "cell_type": "markdown",
   "metadata": {},
   "source": [
    "В интерактивной сессии (или в программе, запущенной с командной строки) можно попросить пользователя что-нибудь ввести. Аргумент функции input - это приглашение для ввода (prompt). Можно использовать просто input(), тогда приглашения не будет. Но это неудобно, т.к. в этом случае трудно заметить, что программа чего-то ждёт."
   ]
  },
  {
   "cell_type": "code",
   "execution_count": 24,
   "metadata": {},
   "outputs": [
    {
     "name": "stdout",
     "output_type": "stream",
     "text": [
      "Введите число 1\n",
      "s =  1 <class 'str'>\n",
      "sf =  1.0 <class 'float'>\n"
     ]
    }
   ],
   "source": [
    "s=input('Введите число ')\n",
    "print('s = ', s, type(s))\n",
    "sf=float(s)\n",
    "print('sf = ', sf, type(sf))"
   ]
  },
  {
   "cell_type": "markdown",
   "metadata": {},
   "source": [
    "Питон - интерпретатор, поэтому он может во время выполнения программы интерпретировать строки как куски исходного текста на языке питон. Так, функция eval интерпретирует строку как выражение и вычисляет его (в текущем контексте - подставляя текущие значения переменных)."
   ]
  },
  {
   "cell_type": "code",
   "execution_count": 5,
   "metadata": {},
   "outputs": [
    {
     "name": "stdout",
     "output_type": "stream",
     "text": [
      "Введите операцию с переменной sf1+sf\n",
      "s =  1+sf <class 'str'>\n",
      "1+sf =  2.0\n"
     ]
    }
   ],
   "source": [
    "s=input('Введите операцию с переменной sf')\n",
    "print('s = ', s, type(s))\n",
    "print(s + ' = ', eval(s))"
   ]
  },
  {
   "cell_type": "markdown",
   "metadata": {},
   "source": [
    "А функция exec интерпретирует строку как оператор и выполняет его. Оператор может менять значения переменных в текущем пространстве имён."
   ]
  },
  {
   "cell_type": "code",
   "execution_count": 7,
   "metadata": {},
   "outputs": [
    {
     "name": "stdout",
     "output_type": "stream",
     "text": [
      "Введите выражение с переменной sf x = sf**2+sf\n"
     ]
    }
   ],
   "source": [
    "s=input('Введите выражение с переменной sf ')"
   ]
  },
  {
   "cell_type": "code",
   "execution_count": 8,
   "metadata": {},
   "outputs": [
    {
     "data": {
      "text/plain": [
       "'x = sf**2+sf'"
      ]
     },
     "execution_count": 8,
     "metadata": {},
     "output_type": "execute_result"
    }
   ],
   "source": [
    "s"
   ]
  },
  {
   "cell_type": "code",
   "execution_count": 9,
   "metadata": {},
   "outputs": [
    {
     "name": "stdout",
     "output_type": "stream",
     "text": [
      "2.0\n"
     ]
    }
   ],
   "source": [
    "exec(s)\n",
    "print(x)"
   ]
  },
  {
   "cell_type": "markdown",
   "metadata": {},
   "source": [
    "# 2.2 Ветвление (или условная инструкция)"
   ]
  },
  {
   "cell_type": "raw",
   "metadata": {},
   "source": [
    "Синтаксис:\n",
    "\n",
    "if Условие1:\n",
    "    Блок_инструкций_1 (выполняется если условие1 выполнено)\n",
    "elif Условие2:\n",
    "    Блок_инструкций_2 (выполняется если условие2 выполнено)    \n",
    "else:\n",
    "    Блок_инструкций_3 (выполняется если условия не выполнены)\n",
    "   \n",
    "или болеее компатно:   \n",
    "   \n",
    "A = инструкция1(выполняется когда верно условие) if условие else инструкция2"
   ]
  },
  {
   "cell_type": "code",
   "execution_count": 3,
   "metadata": {},
   "outputs": [
    {
     "name": "stdout",
     "output_type": "stream",
     "text": [
      "Введите целое число a: 1\n",
      "Введите целое число b: 2\n",
      "a - наименьшее из двух чисел\n"
     ]
    }
   ],
   "source": [
    "# Пример\n",
    "\n",
    "a = input('Введите целое число a: ') \n",
    "b = input('Введите целое число b: ') \n",
    "\n",
    "if a < b: \n",
    "    print ('a - наименьшее из двух чисел') \n",
    "elif a == b: \n",
    "    print ('a и b равны')\n",
    "else: \n",
    "    print ('b - наименьшее из двух чисел') "
   ]
  },
  {
   "cell_type": "code",
   "execution_count": 4,
   "metadata": {},
   "outputs": [
    {
     "name": "stdout",
     "output_type": "stream",
     "text": [
      "a - наименьшее из двух чисел\n"
     ]
    }
   ],
   "source": [
    "a = input('Введите целое число a: ') \n",
    "b = input('Введите целое число b: ') \n",
    "\n",
    "print ('a - наименьшее из двух чисел') if a<b else (print ('b - наименьшее из двух чисел') if a>b else print ('a и b равны'))"
   ]
  },
  {
   "cell_type": "markdown",
   "metadata": {},
   "source": [
    "# 2.3 Цикл"
   ]
  },
  {
   "cell_type": "raw",
   "metadata": {
    "collapsed": true
   },
   "source": [
    "Цикл while («пока») позволяет выполнить одну и ту же последовательность действий, пока проверяемое условие истинно. Условие записывается до тела цикла и проверяется до выполнения тела цикла. Как правило, цикл while используется, когда невозможно определить точное значение количества проходов исполнения цикла.\n",
    "\n",
    "Синтаксис цикла while:\n",
    "\n",
    "while Условие:\n",
    "    Блок_инструкций"
   ]
  },
  {
   "cell_type": "raw",
   "metadata": {},
   "source": [
    "Цикл for\n",
    "\n",
    "Синтаксис:\n",
    "\n",
    "for i in range(10):      #   for i in range(от, до, шаг):        \n",
    "    Блок_инструкций\n",
    "    \n",
    "эквивалентно:\n",
    "\n",
    "i = 0\n",
    "while i < 10:\n",
    "    Блок_инструкций\n",
    "    i += 1"
   ]
  },
  {
   "cell_type": "markdown",
   "metadata": {},
   "source": [
    "# 2.4 Обработка ошибок"
   ]
  },
  {
   "cell_type": "raw",
   "metadata": {},
   "source": [
    "try:\n",
    "    Блок_инструкций_1\n",
    "except:\n",
    "    Блок_инструкций_2 (выполняется в случае ошибки в Блок_инструкций_1)"
   ]
  },
  {
   "cell_type": "markdown",
   "metadata": {},
   "source": [
    "# 3 Функции"
   ]
  },
  {
   "cell_type": "markdown",
   "metadata": {
    "collapsed": true
   },
   "source": [
    "Простейшая в мире функция: не имеет параметров, ничего не делает и ничего не возвращает. Оператор pass означает \"ничего не делай\"; он используется там, где синтаксически необходим оператор, а делать ничено не нужно (после if или elif, после def и т.д.)."
   ]
  },
  {
   "cell_type": "code",
   "execution_count": 17,
   "metadata": {},
   "outputs": [],
   "source": [
    "def fun0():\n",
    "    pass"
   ]
  },
  {
   "cell_type": "code",
   "execution_count": 18,
   "metadata": {},
   "outputs": [],
   "source": [
    "fun0()"
   ]
  },
  {
   "cell_type": "markdown",
   "metadata": {},
   "source": [
    "# Пример 1. \"Сравнение двух чисел\""
   ]
  },
  {
   "cell_type": "markdown",
   "metadata": {},
   "source": [
    "Рассмотрим программу которая умеет сравнивать два числа.\n",
    "Логика её работы приведена ниже."
   ]
  },
  {
   "cell_type": "code",
   "execution_count": 6,
   "metadata": {},
   "outputs": [
    {
     "data": {
      "image/png": "[encoded data removed]",
      "text/plain": [
       "<IPython.core.display.Image object>"
      ]
     },
     "execution_count": 6,
     "metadata": {},
     "output_type": "execute_result"
    }
   ],
   "source": [
    "# Так можно добавлять картинки\n",
    "\n",
    "from IPython.display import Image              # вызов из библиотеки определённой функции\n",
    "Image(\"Схема сравнения чисел.png\")             # вызов функции и передача ей в качестве аргумента пути к файлу \n",
    "\n",
    "# (в данном случае фаил находится в той же папке)"
   ]
  },
  {
   "cell_type": "code",
   "execution_count": 10,
   "metadata": {},
   "outputs": [
    {
     "name": "stdout",
     "output_type": "stream",
     "text": [
      "Введите целое число a: 10\n",
      "Введите целое число b: 1\n",
      "b - наименьшее из двух чисел\n"
     ]
    }
   ],
   "source": [
    "a = input('Введите целое число a: ') \n",
    "b = input('Введите целое число b: ') \n",
    "\n",
    "if a < b: \n",
    "    print ('a - наименьшее из двух чисел') \n",
    "elif a == b: \n",
    "    print ('a и b равны')\n",
    "else:\n",
    "    print ('b - наименьшее из двух чисел') "
   ]
  },
  {
   "cell_type": "markdown",
   "metadata": {},
   "source": [
    "# Упражнение 1. На сколько?"
   ]
  },
  {
   "cell_type": "markdown",
   "metadata": {},
   "source": [
    "Добавьте в текст предыдущей программы вычисление разницы между этими числами и выводите эту информацию в сообщении с результатом."
   ]
  },
  {
   "cell_type": "code",
   "execution_count": 14,
   "metadata": {},
   "outputs": [
    {
     "name": "stdout",
     "output_type": "stream",
     "text": [
      "Введите целое число a: 10\n",
      "Введите целое число b: 1\n",
      "b - наименьшее из двух чисел, оно меньше на 9\n"
     ]
    }
   ],
   "source": [
    "a = int(input('Введите целое число a: ')) \n",
    "b = int(input('Введите целое число b: ')) \n",
    "\n",
    "if a < b:\n",
    "    print ('a - наименьшее из двух чисел') \n",
    "elif a == b:\n",
    "    print ('a и b равны')\n",
    "else:\n",
    "    print ('b - наименьшее из двух чисел, оно меньше на', (a-b))"
   ]
  },
  {
   "cell_type": "markdown",
   "metadata": {},
   "source": [
    "# Упражнение 2. \"Сравнение трёх чисел\""
   ]
  },
  {
   "cell_type": "markdown",
   "metadata": {},
   "source": [
    "Добавьте к сравнению третье число и выведите результат с информацией о величине максимального и минимального числа. \n",
    "\n",
    "Какое наименьшее число операторов сравнения (>, <, >=, <=) необходимо для решения этой задачи?"
   ]
  },
  {
   "cell_type": "code",
   "execution_count": 50,
   "metadata": {},
   "outputs": [
    {
     "name": "stdout",
     "output_type": "stream",
     "text": [
      "Введите целое число a: 44\n",
      "Введите целое число b: 6\n",
      "Введите целое число c: 7\n",
      "Наибольшее из трех чисел    44.0\n",
      "Наименьшеее из трех чисел   6.0\n",
      "Наименьшее из трёх чисел, оно меньше на  38.0\n"
     ]
    }
   ],
   "source": [
    "a = int(input('Введите целое число a: '))\n",
    "b = int(input('Введите целое число b: '))\n",
    "c = int(input('Введите целое число c: '))\n",
    "\n",
    "if a > b and a > c:\n",
    "    Max = a\n",
    "    print('Наибольшее из трех чисел %7.1f' % Max)\n",
    "    if b > c:\n",
    "        Min = c\n",
    "        print('Наименьшеее из трех чисел %5.1f' % Min)\n",
    "    else:\n",
    "        Min = b\n",
    "        print('Наименьшеее из трех чисел %5.1f' % Min)\n",
    "elif b > a and b > c:\n",
    "    Max = b\n",
    "    print('Наибольшее из трех чисел %7.1f' % Max)\n",
    "    if a > c:\n",
    "        Min = c\n",
    "        print('Наименьшеее из трех чисел %5.1f' % Min)\n",
    "    else:\n",
    "        Min = a\n",
    "        print('Наименьшеее из трех чисел %5.1f' % Min)\n",
    "else:\n",
    "    Max = c\n",
    "    print('Наибольшее из трех чисел %7.1f' % Max)\n",
    "    if a > b:\n",
    "        Min = b\n",
    "        print('Наименьшеее из трех чисел %5.1f' % Min)\n",
    "    else:\n",
    "        Min = a\n",
    "        print('Наименьшеее из трех чисел %5.1f' % Min)\n",
    "        \n",
    "print ('Наименьшее из трёх чисел, оно меньше на %5.1f' % (Max - Min)) "
   ]
  },
  {
   "cell_type": "markdown",
   "metadata": {},
   "source": [
    "# Пример 2. \"Метание мяча в деталях\""
   ]
  },
  {
   "cell_type": "markdown",
   "metadata": {},
   "source": [
    "Рассмотрим пример иллюстрирующий математическую модель описывающий траекторию полета мяча в воздухе. Из второго закона Ньютона, предполагая отсутствие сопротивления воздуха, мы можем вывести зависимость вертикального положения мяча от времени $t$:\n",
    "\n",
    "\n",
    "$$y(t)=v_0t−\\frac{1}{2}gt^2$$\n",
    "\n",
    "\n",
    "где $v_0$ — начальная скорость, $g$ — ускорение свободного падения, значение которого положим равным 9.80665 $м/c^2$.\n",
    "\n",
    "(Обратите внимание какие красивые формулы! Текстовые ячейки Jupiter поддерживают набор формул в синтаксесе вёрстки LaTeX, наиболее популярный набор макрорасширений (или макропакет) системы компьютерной вёрстки TeX.)"
   ]
  },
  {
   "cell_type": "markdown",
   "metadata": {},
   "source": [
    "Теперь нас будет интересовать траектория полёта меча."
   ]
  },
  {
   "cell_type": "markdown",
   "metadata": {},
   "source": [
    "Зададим исходные данные:"
   ]
  },
  {
   "cell_type": "code",
   "execution_count": 51,
   "metadata": {},
   "outputs": [],
   "source": [
    "# Программа для вычисления положения мяча при вертикальном движении\n",
    "\n",
    "v0 = 5       # Начальная скорость\n",
    "g = 9.80665  # Ускорение свободного падения\n",
    "\n",
    "tmax = 2*v0/g"
   ]
  },
  {
   "cell_type": "markdown",
   "metadata": {},
   "source": [
    "и определим несколько моментов времени."
   ]
  },
  {
   "cell_type": "markdown",
   "metadata": {},
   "source": [
    "До этого момента все наши переменные могли содержать только одно число, будь оно хоть целым (int), хоть с плавающей точкой (float). Но иногда числа естественным образом группируются. Например, последовательность моментов времени представляют собой группу. Для групп в Python есть несколько специальных типов объектов, рассмотрим тип — list (список), который позволяет организовывать эти группы в последовательности. При этом, с помощью списков мы можем работать как с группой целиком, так и с членами этой группы по отдельности. При этом список может состоять из объектов разного типа, в том числе и из самих списков."
   ]
  },
  {
   "cell_type": "code",
   "execution_count": 52,
   "metadata": {},
   "outputs": [
    {
     "name": "stdout",
     "output_type": "stream",
     "text": [
      "число моментов времени  5\n"
     ]
    }
   ],
   "source": [
    "t = [0, 1/4*tmax, 1/2*tmax, 3/4*tmax, tmax]      # список моментов времени\n",
    "\n",
    "n = len(t)  #  функция len() определяет \"длинну\" списка (количество эллементов)\n",
    "\n",
    "print(\"число моментов времени \", n)"
   ]
  },
  {
   "cell_type": "markdown",
   "metadata": {},
   "source": [
    "Организуем с помощью цикла for перебор этих моментов"
   ]
  },
  {
   "cell_type": "code",
   "execution_count": 53,
   "metadata": {},
   "outputs": [
    {
     "name": "stdout",
     "output_type": "stream",
     "text": [
      "в момент времени 0.00000000e+00 высота равна 0.00000000e+00\n",
      "в момент времени 2.54929053e-01 высота равна 9.55983950e-01\n",
      "в момент времени 5.09858106e-01 высота равна 1.27464527e+00\n",
      "в момент времени 7.64787160e-01 высота равна 9.55983950e-01\n",
      "в момент времени 1.01971621e+00 высота равна 0.00000000e+00\n"
     ]
    }
   ],
   "source": [
    "for i in [0,1,2,3,4]:\n",
    "    y = v0*t[i] - 1/2*g*t[i]**2\n",
    "    print (\"в момент времени %14.8e высота равна %14.8e\" %(t[i], y))"
   ]
  },
  {
   "cell_type": "markdown",
   "metadata": {},
   "source": [
    "Теперь наша переменная t ссылается на объект типа list, который содержит последовательность. Все элементы в этом случае являются объектами типа int.\n",
    "\n",
    "Любой элемент в списке связан со своим индексом, который определяет позицию элемента в списке. Первый элемент имеет индекс 0, второй элемент — индекс 1 и так далее. Для того, чтобы вызвать какой-то элемент списка, достаточно вызвать его по индексу, например t[3].\n",
    "\n",
    "Элементы в списках можно удалять, добавлять, изменять, вставлять и так далее. Делается это с помощью методов. Методы определяются через точку. \n",
    "\n",
    "Например метод append для списка y запишется как y.append(v), и этот метод добавит элемент v в конец списка y. А метод y.insert(i,v) вставит новый элемент v на позицию i. "
   ]
  },
  {
   "cell_type": "code",
   "execution_count": 54,
   "metadata": {},
   "outputs": [
    {
     "name": "stdout",
     "output_type": "stream",
     "text": [
      "[0.0, 0.9559839496668078, 1.2746452662224104, 0.9559839496668081, 0.0] <class 'list'>\n"
     ]
    }
   ],
   "source": [
    "y=[] # создаем пустой список\n",
    "for i in [0,1,2,3,4]:\n",
    "    y.append(v0*t[i] - 1/2*g*t[i]**2) # дописываем значение в конец списка \n",
    "\n",
    "print (y, type(y))"
   ]
  },
  {
   "cell_type": "markdown",
   "metadata": {},
   "source": [
    "Добавим ещё несколько моментов времени:"
   ]
  },
  {
   "cell_type": "code",
   "execution_count": 55,
   "metadata": {},
   "outputs": [
    {
     "name": "stdout",
     "output_type": "stream",
     "text": [
      "[0, 0.12746452662224103, 0.25492905324448206, 0.38239357986672307, 0.5098581064889641, 0.6373226331112052, 0.7647871597334461, 0.8922516863556872, 1.0197162129779282] 9\n"
     ]
    }
   ],
   "source": [
    "t.insert(1, 1/8*tmax)\n",
    "t.insert(3, 3/8*tmax)\n",
    "t.insert(5, 5/8*tmax)\n",
    "t.insert(7, 7/8*tmax)\n",
    "\n",
    "n = len(t)\n",
    "print(t, n)"
   ]
  },
  {
   "cell_type": "markdown",
   "metadata": {},
   "source": [
    "Вычислим значение y в новые моменты времени и вставим их список:"
   ]
  },
  {
   "cell_type": "code",
   "execution_count": 56,
   "metadata": {},
   "outputs": [
    {
     "name": "stdout",
     "output_type": "stream",
     "text": [
      "[0.0, 0.5576573039723045, 0.9559839496668078, 1.1949799370835097, 1.2746452662224104, 1.1949799370835101, 0.9559839496668081, 0.557657303972305, 0.0]\n"
     ]
    }
   ],
   "source": [
    "for i in [1,3,5,7]:\n",
    "    y.insert(i,v0*t[i] - 1/2*g*t[i]**2) # дописываем значение в заданные позиции списка \n",
    "\n",
    "print (y)"
   ]
  },
  {
   "cell_type": "markdown",
   "metadata": {},
   "source": [
    "С помощью del t[i] мы можем удалять любые элементы. Метод t.index(v) позволяет определить под каким индексом расположен интересующий нас элемент."
   ]
  },
  {
   "cell_type": "code",
   "execution_count": 57,
   "metadata": {},
   "outputs": [
    {
     "name": "stdout",
     "output_type": "stream",
     "text": [
      "[0, 0.12746452662224103, 0.25492905324448206, 0.38239357986672307, 0.5098581064889641, 0.6373226331112052, 0.7647871597334461, 0.8922516863556872, 1.0197162129779282]\n",
      "[0.12746452662224103, 0.25492905324448206, 0.38239357986672307, 0.5098581064889641, 0.6373226331112052, 0.7647871597334461, 0.8922516863556872, 1.0197162129779282]\n"
     ]
    }
   ],
   "source": [
    "print(t)\n",
    "\n",
    "del t[0]\n",
    "\n",
    "print(t)"
   ]
  },
  {
   "cell_type": "code",
   "execution_count": 58,
   "metadata": {},
   "outputs": [
    {
     "data": {
      "text/plain": [
       "0"
      ]
     },
     "execution_count": 58,
     "metadata": {},
     "output_type": "execute_result"
    }
   ],
   "source": [
    "y.index(0)"
   ]
  },
  {
   "cell_type": "markdown",
   "metadata": {},
   "source": [
    "Поскольку прохождение по списку и создание соответствующего нового списка является часто встречаемой задачей, в Python имеется компактный синтаксис для решения этой проблемы, который часто называют генерацией списка. В общем виде это выглядит так:\n",
    "\n"
   ]
  },
  {
   "cell_type": "code",
   "execution_count": 59,
   "metadata": {},
   "outputs": [
    {
     "name": "stdout",
     "output_type": "stream",
     "text": [
      "[0.0, 0.10197162129779283, 0.20394324259558566, 0.30591486389337846, 0.4078864851911713, 0.5098581064889641, 0.6118297277867569, 0.7138013490845497, 0.8157729703823426, 0.9177445916801354, 1.0197162129779282]\n"
     ]
    }
   ],
   "source": [
    "n = 10\n",
    "t = [i/n*tmax for i in range(n+1)]\n",
    "print(t)"
   ]
  },
  {
   "cell_type": "markdown",
   "metadata": {},
   "source": [
    "Вместо цикла for по заданным элементам списка мы можем использовать цикл for с генерированным списком индексов. Для этого в Python есть функция range, возвращающая список по порядку идущих чисел: range(от,до,шаг)"
   ]
  },
  {
   "cell_type": "markdown",
   "metadata": {},
   "source": [
    "Модифициурем сценарий из 1-й лабораторной. Программа на Python с векторизацией и построением графиков для иллюстрации использования цикла for.\n",
    "\n",
    "Предположим, мы хотим найти максимальную высоту в течение этого времени. Один из вариантов реализации этого может быть следующим: вычисляем все тысяча значений высоты, сохраняем их в массив, а затем пробегаем весь массив, чтобы найти максимальное значение. "
   ]
  },
  {
   "cell_type": "code",
   "execution_count": 60,
   "metadata": {},
   "outputs": [
    {
     "name": "stdout",
     "output_type": "stream",
     "text": [
      "Максимальная достигнутая высота равна 1.274644 м\n"
     ]
    },
    {
     "data": {
      "image/png": "[encoded data removed]",
      "text/plain": [
       "<Figure size 648x504 with 1 Axes>"
      ]
     },
     "metadata": {
      "needs_background": "light"
     },
     "output_type": "display_data"
    }
   ],
   "source": [
    "import numpy as np\n",
    "import matplotlib.pyplot as plt\n",
    "\n",
    "v0 = 5.0\n",
    "g = 9.80665  # Ускорение свободного падения\n",
    "\n",
    "tmax = 2*v0/g\n",
    "\n",
    "t = np.linspace(0, tmax, 1000)\n",
    "y = v0*t - 0.5*g*t**2\n",
    "\n",
    "max_height = y[0]\n",
    "for i in range(1, 1000):\n",
    "    if y[i] > max_height:\n",
    "        max_height = y[i]\n",
    "\n",
    "print ('Максимальная достигнутая высота равна %f м' % (max_height))\n",
    "\n",
    "plt.figure(figsize=(9,7))  \n",
    "\n",
    "plt.plot(t, y)\n",
    "plt.xlabel(u'Время (с)')\n",
    "plt.ylabel(u'Высота (м)')\n",
    "plt.show()"
   ]
  },
  {
   "cell_type": "code",
   "execution_count": 61,
   "metadata": {},
   "outputs": [
    {
     "name": "stdout",
     "output_type": "stream",
     "text": [
      "Терерь последовательность t имеет 1000 эллементов и тип <class 'numpy.ndarray'>\n"
     ]
    }
   ],
   "source": [
    "print ('Терерь последовательность t имеет %i эллементов и тип %s'%(len(t), type(t)))"
   ]
  },
  {
   "cell_type": "markdown",
   "metadata": {},
   "source": [
    "Ещё одним удобным вариантом для группировки эллементов служат массиивы библиотеки numpy. Функция этой библиотеки linspace(от, до, количество эллементов) создает набор чисел с равным шагом из заданного диапазона"
   ]
  },
  {
   "cell_type": "markdown",
   "metadata": {},
   "source": [
    "В языке Python имеется еще одна стандартная циклическая конструкция — цикл while. Для иллюстрации использования этого цикла рассмотрим другую модификацию сценария из лабораторной 1. Теперь мы изменим его так, чтобы сценарий находил время полета мяча. Предположим, что мы подбросили мяч с немного меньшей начальной скоростью 4.5 м/с. Так как мы будем рассматривать первую секунду полета, то высота в конце этого интервала будет отрицательной. Это означает, что мяч упал ниже своего начального положения. В нашем массиве y мы будем иметь ряд отрицательных значений, которые расположены в конце массива. \n",
    "\n",
    "В следующем сценарии находится момент времени, когда значение высоты становится отрицательным, т.е., когда мяч пересекается прямую y=0. Сценарий может быть следующим:"
   ]
  },
  {
   "cell_type": "code",
   "execution_count": 62,
   "metadata": {},
   "outputs": [
    {
     "name": "stdout",
     "output_type": "stream",
     "text": [
      "y = 0 в момент времени  0.9174174174174174\n"
     ]
    },
    {
     "data": {
      "image/png": "[encoded data removed]",
      "text/plain": [
       "<Figure size 648x504 with 1 Axes>"
      ]
     },
     "metadata": {
      "needs_background": "light"
     },
     "output_type": "display_data"
    }
   ],
   "source": [
    "v0 = 4.5\n",
    "g = 9.81\n",
    "t = np.linspace(0, 1, 1000)\n",
    "y = v0*t - 0.5*g*t**2\n",
    "\n",
    "i = 0\n",
    "while y[i] >= 0:\n",
    "    i += 1\n",
    "\n",
    "print (u'y = 0 в момент времени ', 0.5*(t[i-1] + t[i]))\n",
    "\n",
    "plt.figure(figsize=(9,7))  \n",
    "\n",
    "plt.plot(t, y)\n",
    "plt.xlabel(u'Время (с)')\n",
    "plt.ylabel(u'Высота (м)')\n",
    "plt.show()"
   ]
  },
  {
   "cell_type": "markdown",
   "metadata": {},
   "source": [
    "В приведенном примере Цикл while выполняется до тех пор, пока булевское выражение y[i] > 0 возвращает значение True. Отметим, что в этом случае счетчик цикла i введен и инициализирован (i = 0) до начала выполнения цикла и обновляется (i += 1) внутри цикла. Таким образом, для каждой итерации i явно увеличивается на 1.\n",
    "\n",
    "В отличие от цикла for, программист не должен определять количество итераций при использовании цикла while. Он просто выполняется пока булевское выражение не вернет значение False. Таким образом, в этом случае счетчик цикла не обязателен. Кроме того, если в цикле while используется счетчик, то он не увеличивается автоматически, это нужно делать явно. Конечно, как и в цикле for и в инструкции if может быть несколько строк кода в теле цикла while. Любой цикл for может быть реализован с помощью while, но циклы while являются более общими и не все из них можно реализовать с помощью for.\n",
    "\n",
    "Следует быть осторожным с так называемыми бесконечными циклами. Могут возникнуть (непреднамеренно) случаи, когда тест в инструкции while никогда не вернет значение False, и сценарий не сможет выйти из цикла."
   ]
  },
  {
   "cell_type": "markdown",
   "metadata": {},
   "source": [
    "# Упражнение 4. $\\pi$"
   ]
  },
  {
   "cell_type": "markdown",
   "metadata": {},
   "source": [
    "Число Пи - несомненно, одна из основных констант, значение которой было известно еще в древности. Оно используется везде, от кройки и шитья до расчетов гармонических колебаний в физике и радиотехнике.\n",
    "\n",
    "Но чему она равна? Есть ли у этого числа какая-то внутренняя структура, неизвестная закономерность? Узнать это хотели многие. Самый простой и очевидный способ - взять и измерить. Примерно так вероятно и поступали в древности, точность разумеется была невысокой. Еще в древнем Вавилоне значение числа Пи было известно как 25/8. Затем Архимед предложил первый математический метод вычисления числа Пи, с помощью расчета вписанных в круг многоугольников. Это позволяло вычислять значение не «напрямую», с циркулем и линейкой, а математически, что обеспечивало гораздо большую точность. И наконец в 3-м веке нашей эры китайский математик Лю Хуэй придумал первый итерационный алгоритм — алгоритм, в котором число вычисляется не одной формулой, а последовательностью шагов (итераций), где каждая последующая итерация увеличивает точность.\n",
    "\n",
    "Кроме того, число Пи является иррациональным: оно не может быть выражено с помощью дроби вида m/n. Это было доказано только в 1761 году. Число Пи является трансцендентным: оно не является корнем какого-либо уравнения с целочисленными коэффициентами. Это было доказано в 1882 году. Число Пи является бесконечным. Интересное следствие предыдущего пункта: в числе Пи можно найти практически любое число, например свой собственный номер телефона, вопрос лишь в длине последовательности которую придется просмотреть.\n",
    "\n",
    "Перейдем к формулам вычисления $\\pi$:\n",
    "\n",
    "Формула Мадхавы-Лейбница (15 век):\n",
    "\n",
    "$$\\frac{1}{1} - \\frac{1}{3} + \\frac{1}{5} - \\frac{1}{7} + \\frac{1}{9} - ... = \\frac{\\pi}{4}$$\n",
    "\n",
    "Формула Валлиса (17 век):\n",
    "\n",
    "$$\\frac{2}{1} * \\frac{2}{3} * \\frac{4}{3} * \\frac{4}{5} * \\frac{6}{5} * \\frac{6}{7} * \\frac{8}{7} * \\frac{8}{9} ... = \\frac{\\pi}{2}$$\n",
    "\n",
    "Напишите программу вычисляющую значение числа $\\pi$ по этим формулам, первые n итераций. Выводите все итерации и текущее значение числа $\\pi$ с 10 знаками после запятой в следующеем формате:\n",
    "\n",
    "Номер итерации  ф. Мадхавы-Лейбница  ф. Валлиса"
   ]
  },
  {
   "cell_type": "code",
   "execution_count": 3,
   "metadata": {},
   "outputs": [
    {
     "name": "stdout",
     "output_type": "stream",
     "text": [
      "Введите целое число n: 10\n",
      "\n",
      "Формула Мадхавы-Лейбница (15 век):\n",
      "Номер итерации = 0, Значение = 0.0476190476\n",
      "Номер итерации = 1, Значение = 0.0952380952\n",
      "Номер итерации = 2, Значение = 0.1428571429\n",
      "Номер итерации = 3, Значение = 0.1904761905\n",
      "Номер итерации = 4, Значение = 0.2380952381\n",
      "Номер итерации = 5, Значение = 0.2857142857\n",
      "Номер итерации = 6, Значение = 0.3333333333\n",
      "Номер итерации = 7, Значение = 0.3809523810\n",
      "Номер итерации = 8, Значение = 0.4285714286\n",
      "Номер итерации = 9, Значение = 0.4761904762\n",
      "\n",
      "Формула Валлиса (17 век):\n",
      "Номер итерации = 1, Значение = 1.0025062657\n",
      "Номер итерации = 2, Значение = 1.0050188127\n",
      "Номер итерации = 3, Значение = 1.0075376568\n",
      "Номер итерации = 4, Значение = 1.0100628139\n",
      "Номер итерации = 5, Значение = 1.0125942996\n",
      "Номер итерации = 6, Значение = 1.0151321299\n",
      "Номер итерации = 7, Значение = 1.0176763207\n",
      "Номер итерации = 8, Значение = 1.0202268880\n",
      "Номер итерации = 9, Значение = 1.0227838476\n"
     ]
    }
   ],
   "source": [
    "n = int(input('Введите целое число n: '))\n",
    "\n",
    "print('\\nФормула Мадхавы-Лейбница (15 век):')\n",
    "pi_15 = 0\n",
    "for i in range(n):\n",
    "    pi_15 += (-1)**n / (2 * n + 1)\n",
    "    print('Номер итерации = %1i, Значение = %5.10f'  % (i, pi_15))\n",
    "    \n",
    "print('\\nФормула Валлиса (17 век):')\n",
    "j = 1\n",
    "pi_17 = 1\n",
    "while j < n:\n",
    "    pi_17 *= ((2 * n)**2) / ((2 * n - 1) * (2 * n + 1))\n",
    "    print('Номер итерации = %1i, Значение = %5.10f'  % (j, pi_17))\n",
    "    j = j + 1"
   ]
  },
  {
   "cell_type": "markdown",
   "metadata": {},
   "source": [
    "# Домашнее задание (базовое):"
   ]
  },
  {
   "cell_type": "markdown",
   "metadata": {},
   "source": [
    "# Задание 1. Счастливое число"
   ]
  },
  {
   "cell_type": "markdown",
   "metadata": {},
   "source": [
    "Дано четырехзначное число. Определите, является ли его десятичная запись симметричной. Если число симметричное, то выведите 1, иначе выведите любое другое целое число. Число может иметь меньше четырех знаков, тогда нужно считать, что его десятичная запись дополняется слева нулями."
   ]
  },
  {
   "cell_type": "code",
   "execution_count": 43,
   "metadata": {},
   "outputs": [
    {
     "name": "stdout",
     "output_type": "stream",
     "text": [
      "Введите целое число: 23\n",
      "Число:               0 0 2 3\n",
      "0\n",
      "Если число симметричное, то выведите 1, иначе 0 :)\n"
     ]
    }
   ],
   "source": [
    "n_happy = int(input('Введите целое число: '))\n",
    "\n",
    "x_1 = n_happy // 1000\n",
    "x_2 = n_happy // 100 % 10\n",
    "x_3 = n_happy // 10 % 10\n",
    "x_4 = n_happy %10 \n",
    "print('Число: %15i' % x_1, x_2, x_3, x_4)\n",
    "\n",
    "if x_1 == x_4 and x_2 == x_3:\n",
    "    print(1)\n",
    "else:\n",
    "    print(0)\n",
    "    \n",
    "print('Если число симметричное, то выведите 1, иначе 0 :)')"
   ]
  },
  {
   "cell_type": "markdown",
   "metadata": {},
   "source": [
    "# Задание 2. Високосный год"
   ]
  },
  {
   "cell_type": "markdown",
   "metadata": {},
   "source": [
    "Дано натуральное число. Требуется определить, является ли год с данным номером високосным. Если год является високосным, то выведите YES, иначе выведите NO. Напомним, что в соответствии с григорианским календарем, год является високосным, если его номер кратен 4, но не кратен 100, или же если он кратен 400."
   ]
  },
  {
   "cell_type": "code",
   "execution_count": 42,
   "metadata": {},
   "outputs": [
    {
     "name": "stdout",
     "output_type": "stream",
     "text": [
      "Введите целое число: 1712\n",
      "YES\n",
      "Если год является високосным, то выведите YES, иначе выведите NO :)\n"
     ]
    }
   ],
   "source": [
    "n_year = int(input('Введите целое число: '))\n",
    "\n",
    "if (n_year % 4 == 0 and n_year % 100 != 0) or n_year % 400 == 0:\n",
    "    print(\"YES\")\n",
    "else:\n",
    "    print(\"NO\")\n",
    "    \n",
    "print('Если год является високосным, то выведите YES, иначе выведите NO :)')"
   ]
  },
  {
   "cell_type": "markdown",
   "metadata": {},
   "source": [
    "# Задание 3. Коровы"
   ]
  },
  {
   "cell_type": "markdown",
   "metadata": {},
   "source": [
    "Для целого числа n введённого пользователем закончите фразу “На лугу пасется...” одним из возможных продолжений: “n коров”, “n корова”, “n коровы”, правильно склоняя слово “корова”."
   ]
  },
  {
   "cell_type": "code",
   "execution_count": 15,
   "metadata": {},
   "outputs": [
    {
     "name": "stdout",
     "output_type": "stream",
     "text": [
      "Введите целое число: 25\n",
      "На лугу пасется 25 коров\n"
     ]
    }
   ],
   "source": [
    "N_cow = int(input('Введите целое число: '))\n",
    "            \n",
    "if N_cow == 1 or N_cow % 10 == 1:\n",
    "    print(\"На лугу пасется\",N_cow,\"корова\")\n",
    "elif (N_cow % 10 == 0 or N_cow % 10 > 4) or ((N_cow % 100) // 10 == 1):\n",
    "    print(\"На лугу пасется\",N_cow,\"коров\")\n",
    "else:\n",
    "    print(\"На лугу пасется\",N_cow,\"коровы\")"
   ]
  },
  {
   "cell_type": "markdown",
   "metadata": {},
   "source": [
    "## Задание 4. Минимальный делитель"
   ]
  },
  {
   "cell_type": "markdown",
   "metadata": {},
   "source": [
    "Дано целое число, не меньшее 2. Выведите его наименьший натуральный делитель, отличный от 1. \n",
    "Напишите программу в 2-х вариантах - с помощью цикла for и while."
   ]
  },
  {
   "cell_type": "code",
   "execution_count": 34,
   "metadata": {},
   "outputs": [
    {
     "name": "stdout",
     "output_type": "stream",
     "text": [
      "Введите целое число: 23\n",
      "Вариант при использовании while:       23\n",
      "Вариант при использовании for:         23\n"
     ]
    }
   ],
   "source": [
    "N_2 = int(input('Введите целое число: '))\n",
    "\n",
    "N_2_Del = 3\n",
    "while N_2 % N_2_Del != 0:\n",
    "    N_2_Del += 1\n",
    "print('Вариант при использовании while: %8i' % N_2_Del)\n",
    "\n",
    "for i in range(N_2):\n",
    "    if N_2 % N_2_Del != 0:\n",
    "        N_2_Del += 1\n",
    "print('Вариант при использовании for: %10i' % N_2_Del)"
   ]
  },
  {
   "cell_type": "markdown",
   "metadata": {},
   "source": [
    "# Задание 5. Последовательность"
   ]
  },
  {
   "cell_type": "markdown",
   "metadata": {},
   "source": [
    "Программа получает на вход последовательность целых неотрицательных чисел, каждое число записано в отдельной строке. Последовательность завершается числом 0, при считывании которого программа должна закончить свою работу и вывести количество членов последовательности (не считая завершающего числа 0).\n",
    "После завершения ввода данных программа запрашивает пользователя какую операцию с ними нужно выполнить:\n",
    "\n",
    "1. Найти сумму введённых чисел.\n",
    "2. Найти произведение введённых чисел.\n",
    "3. Найти среднее значение введённых чисел.\n",
    "4. Найти максимальное из введённых чисел.\n",
    "5. Найти минимальное из введённых чисел.\n",
    "6. Определить количество чётных и нечётных эллементов.\n",
    "\n",
    "После получения ответа от пользователя программа выполняет расчёт и выводит результат."
   ]
  },
  {
   "cell_type": "code",
   "execution_count": 12,
   "metadata": {},
   "outputs": [
    {
     "name": "stdout",
     "output_type": "stream",
     "text": [
      "Введите число: 1\n",
      "[1]\n",
      "Введите число: 2\n",
      "[1, 2]\n",
      "Введите число: 3\n",
      "[1, 2, 3]\n",
      "Введите число: 0\n",
      "[1, 2, 3]\n",
      "\n",
      "\n",
      "Будем выполнять какую-нибуть операцию? 1 - yes, 0 - no : 1\n",
      "\n",
      "\n",
      "Какую операцию хотите выполнить?\n",
      " 1 - Найти сумму введённых чисел.\n",
      " 2 - Найти произведение введённых чисел.\n",
      " 3 - Найти среднее значение введённых чисел.\n",
      " 4 - Найти максимальное из введённых чисел.\n",
      " 5 - Найти минимальное из введённых чисел.\n",
      " 6 - Определить количество чётных и нечётных эллементов. \n",
      "\n",
      "6\n",
      "\n",
      "\n",
      "Определить количество чётных = 1 , и нечётных = 2 эллементов.\n",
      "Будем выполнять какую-нибуть операцию? 1 - yes, 0 - no : 0\n",
      "\n",
      "\n",
      "\n",
      "Пока-пока\n"
     ]
    }
   ],
   "source": [
    "import numpy as np\n",
    "\n",
    "massiv = []\n",
    "\n",
    "def my_big_func():\n",
    "    while True:\n",
    "        new_character = int(input('Введите число: '))\n",
    "        if new_character == 0:\n",
    "            print(massiv)\n",
    "            break\n",
    "        else:\n",
    "            massiv.append(new_character)\n",
    "            print(massiv)       \n",
    "    print('\\n')\n",
    "    \n",
    "    while True:\n",
    "        new_character_2 = input('Будем выполнять какую-нибуть операцию? 1 - yes, 0 - no : ')\n",
    "        print('\\n')\n",
    "        if int(new_character_2) == 1:\n",
    "            new_character_1 = int(input('Какую операцию хотите выполнить?\\n 1 - Найти сумму введённых чисел.\\n 2 - Найти произведение введённых чисел.\\n 3 - Найти среднее значение введённых чисел.\\n 4 - Найти максимальное из введённых чисел.\\n 5 - Найти минимальное из введённых чисел.\\n 6 - Определить количество чётных и нечётных эллементов. \\n\\n'))\n",
    "            print('\\n')\n",
    "            if int(new_character_1) == 1:\n",
    "                sum_massiv = sum(massiv)\n",
    "                print('Сумма чисел: %i' % sum_massiv)\n",
    "            if int(new_character_1) == 2:\n",
    "                product_massiv = np.prod(massiv)\n",
    "                print('Произведение чисел: %i' % product_massiv)\n",
    "            if int(new_character_1) == 3:\n",
    "                avg_massiv = sum(massiv) / len(massiv)\n",
    "                print('Среднее значение чисел: %i' % avg_massiv)\n",
    "            if int(new_character_1) == 4:\n",
    "                max_massiv = max(massiv)\n",
    "                print('Максимальное значение: %i' % max_massiv)\n",
    "            if int(new_character_1) == 5:\n",
    "                min_massiv = min(massiv)\n",
    "                print('Минимальное значение: %i' % min_massiv)\n",
    "            if int(new_character_1) == 6:\n",
    "                m_even = []\n",
    "                m_odd = []\n",
    "                for i in range(len(massiv)):\n",
    "                    if massiv[i] % 2 == 0:\n",
    "                        m_even.append(massiv[i])\n",
    "                    else:\n",
    "                        m_odd.append(massiv[i])\n",
    "                print('Определить количество чётных = %i , и нечётных = %i эллементов.' % (len(m_even), len(m_odd)))\n",
    "        else:\n",
    "            print('\\nПока-пока')\n",
    "            break\n",
    "    pass\n",
    "\n",
    "my_big_func()"
   ]
  },
  {
   "cell_type": "markdown",
   "metadata": {},
   "source": [
    "# Домашнее задание (дополнительное):"
   ]
  },
  {
   "cell_type": "markdown",
   "metadata": {},
   "source": [
    "# Задание. \"Без всяких условностей\" "
   ]
  },
  {
   "cell_type": "markdown",
   "metadata": {},
   "source": [
    "Напишите программу, которая принимает два целых числа A и B и выводит наибольшее значение из них. \n",
    "\n",
    "При решении задачи можно пользоваться только целочисленными арифметическими операциями. Нельзя пользоваться нелинейными конструкциями: ветвлениями, циклами, функциями."
   ]
  },
  {
   "cell_type": "code",
   "execution_count": 46,
   "metadata": {},
   "outputs": [
    {
     "name": "stdout",
     "output_type": "stream",
     "text": [
      "Введите целое число A: 23\n",
      "Введите целое число B: 21\n",
      "Вывод маскисального числа: 23\n"
     ]
    }
   ],
   "source": [
    "A = int(input('Введите целое число A: '))\n",
    "B = int(input('Введите целое число B: '))\n",
    "\n",
    "C = (A - B) ** 2\n",
    "C = C ** .5\n",
    "print('Вывод маскисального числа: %i' % ((A + B + C) / 2))"
   ]
  },
  {
   "cell_type": "markdown",
   "metadata": {},
   "source": [
    "# Задание. \"Котлеты\" "
   ]
  },
  {
   "cell_type": "markdown",
   "metadata": {},
   "source": [
    "На сковородку одновременно можно положить k котлет. Каждую котлету нужно с каждой стороны обжаривать m минут непрерывно. За какое наименьшее время удастся поджарить с обеих сторон n котлет?\n",
    "Программа получает на вход три числа: k,m,n. И выводит одно число: наименьшее количество минут."
   ]
  },
  {
   "cell_type": "code",
   "execution_count": 8,
   "metadata": {},
   "outputs": [
    {
     "name": "stdout",
     "output_type": "stream",
     "text": [
      "Введите число котлет,которые можно положить одновременно на сковороду k: 1\n",
      "Введите количество минут,необходимое чтобы обжарить котлету с каждой стороны m: 5\n",
      "Введите количество котлет n: 1\n",
      "Наименьшее количество минут: 10\n"
     ]
    }
   ],
   "source": [
    "k_kotlet = int(input('Введите число котлет,которые можно положить одновременно на сковороду k: '))\n",
    "m_kotlet = int(input('Введите количество минут,необходимое чтобы обжарить котлету с каждой стороны m: '))\n",
    "n_kotlet = int(input('Введите количество котлет n: '))\n",
    "\n",
    "def my_kotlet():\n",
    "    if n_kotlet <= k_kotlet:\n",
    "        t = 2 * m_kotlet\n",
    "    elif n_kotlet * 2 % k_kotlet == 0:\n",
    "        t = m_kotlet * (n_kotlet * 2 // k_kotlet)\n",
    "    else:\n",
    "        t = m_kotlet * ((n_kotlet * 2 // k_kotlet) + 1)  \n",
    "    print('Наименьшее количество минут:%3i'% t)  \n",
    "    pass\n",
    "\n",
    "my_kotlet()"
   ]
  },
  {
   "cell_type": "markdown",
   "metadata": {},
   "source": [
    "# Задание. \"Угадай число\""
   ]
  },
  {
   "cell_type": "markdown",
   "metadata": {},
   "source": [
    "Пользователь загадывает число от 1 до N. Программа запрашивает у пользователя N. Требуется отгадать загаданное число, задав как можно меньше вопросов. (Обычно подобные задачи решают с помощью цикла)."
   ]
  },
  {
   "cell_type": "code",
   "execution_count": 29,
   "metadata": {},
   "outputs": [
    {
     "name": "stdout",
     "output_type": "stream",
     "text": [
      "Введите целое число N: 100\n",
      "\n",
      "Число =            49\n",
      "Это и есть загаданное число? 1 - yes, 0 - no : 0\n",
      "Данное число больше загаданного? 1 - yes, 0 - no : 1\n",
      "Номер итерации =    0\n",
      "\n",
      "Число =            24\n",
      "Это и есть загаданное число? 1 - yes, 0 - no : 0\n",
      "Данное число больше загаданного? 1 - yes, 0 - no : 1\n",
      "Номер итерации =    1\n",
      "\n",
      "Число =            11\n",
      "Это и есть загаданное число? 1 - yes, 0 - no : 0\n",
      "Данное число больше загаданного? 1 - yes, 0 - no : 0\n",
      "Номер итерации =    2\n",
      "\n",
      "Число =            17\n",
      "Это и есть загаданное число? 1 - yes, 0 - no : 0\n",
      "Данное число больше загаданного? 1 - yes, 0 - no : 0\n",
      "Номер итерации =    3\n",
      "\n",
      "Число =            20\n",
      "Это и есть загаданное число? 1 - yes, 0 - no : 0\n",
      "Данное число больше загаданного? 1 - yes, 0 - no : 0\n",
      "Номер итерации =    4\n",
      "\n",
      "Число =            22\n",
      "Это и есть загаданное число? 1 - yes, 0 - no : 0\n",
      "Данное число больше загаданного? 1 - yes, 0 - no : 0\n",
      "Номер итерации =    5\n",
      "\n",
      "Число =            23\n",
      "Это и есть загаданное число? 1 - yes, 0 - no : 1\n",
      "Загаданное число совпадает с найденным =  23\n"
     ]
    }
   ],
   "source": [
    "N = int(input('Введите целое число N: '))\n",
    "N_list = [i for i in range(1, N+1)]\n",
    "#print(N_list)\n",
    "\n",
    "def my_binary_search(N_list, item):\n",
    "    k = 0\n",
    "    low = 0\n",
    "    high = len(N_list) - 1\n",
    "    \n",
    "    while low <= high:\n",
    "        mid = (low + high) // 2\n",
    "        print('\\nЧисло = %13i' % mid)\n",
    "        character = input('Это и есть загаданное число? 1 - yes, 0 - no : ')\n",
    "        if (mid == item) and int(character) == 1:\n",
    "            return mid\n",
    "        character = input('Данное число больше загаданного? 1 - yes, 0 - no : ')\n",
    "        if (mid > item) and int(character) == 1:\n",
    "            high = mid - 1\n",
    "        else:\n",
    "            low = mid + 1\n",
    "        print('Номер итерации = %4i' % k)\n",
    "        k = k + 1\n",
    "        \n",
    "    return None\n",
    "\n",
    "print('Загаданное число совпадает с найденным = ', my_binary_search(N_list, 23))"
   ]
  }
 ],
 "metadata": {
  "kernelspec": {
   "display_name": "Python 3",
   "language": "python",
   "name": "python3"
  },
  "language_info": {
   "codemirror_mode": {
    "name": "ipython",
    "version": 3
   },
   "file_extension": ".py",
   "mimetype": "text/x-python",
   "name": "python",
   "nbconvert_exporter": "python",
   "pygments_lexer": "ipython3",
   "version": "3.8.3"
  }
 },
 "nbformat": 4,
 "nbformat_minor": 2
}
